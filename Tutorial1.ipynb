{
 "cells": [
  {
   "cell_type": "code",
   "execution_count": 1,
   "metadata": {},
   "outputs": [],
   "source": [
    "tu=(23,'abc',4.56,(2,3),'def',25) #tuple은 수정불가"
   ]
  },
  {
   "cell_type": "code",
   "execution_count": 17,
   "metadata": {},
   "outputs": [
    {
     "name": "stdout",
     "output_type": "stream",
     "text": [
      "[100, 'abc', 4.56, (2, 3), 'def', 25]\n",
      "[100, 'abc', 4.56, (2, 3), 'def', 25]\n",
      "[23, 'abc', 4.56, (2, 3), 'def', 25]\n"
     ]
    }
   ],
   "source": [
    "li=[23,'abc',4.56,(2,3),'def',25] #list 는 수정가능\n",
    "\n",
    "#Soft copy\n",
    "li1=li\n",
    "\n",
    "#Hard copy\n",
    "li2=li[:]\n",
    "\n",
    "li[0]=100 \n",
    "\n",
    "print(li)\n",
    "\n",
    "print(li1)\n",
    "\n",
    "print(li2)"
   ]
  },
  {
   "cell_type": "code",
   "execution_count": 7,
   "metadata": {},
   "outputs": [
    {
     "name": "stdout",
     "output_type": "stream",
     "text": [
      "abc\n"
     ]
    }
   ],
   "source": [
    "print(tu)\n",
    "print(tu[1])"
   ]
  },
  {
   "cell_type": "code",
   "execution_count": 25,
   "metadata": {},
   "outputs": [
    {
     "name": "stdout",
     "output_type": "stream",
     "text": [
      "('abc', 4.56, (2, 3))\n",
      "('abc', 4.56, (2, 3))\n",
      "('abc', (2, 3))\n",
      "(23, 'abc', 4.56, (2, 3), 'def')\n",
      "(23, 'abc')\n"
     ]
    }
   ],
   "source": [
    "t = (23, 'abc', 4.56, (2,3), 'def')\n",
    "\n",
    "print(t[1:4])\n",
    "print(t[1:-1])\n",
    "print(t[1:-1:2])\n",
    "print(t[:])\n",
    "print(t[:2])"
   ]
  },
  {
   "cell_type": "code",
   "execution_count": 20,
   "metadata": {},
   "outputs": [
    {
     "name": "stdout",
     "output_type": "stream",
     "text": [
      "False\n"
     ]
    },
    {
     "data": {
      "text/plain": [
       "True"
      ]
     },
     "execution_count": 20,
     "metadata": {},
     "output_type": "execute_result"
    }
   ],
   "source": [
    "t = [1, 2, 4, 5]\n",
    "print(3 in t)\n",
    "4 in t"
   ]
  },
  {
   "cell_type": "code",
   "execution_count": 24,
   "metadata": {},
   "outputs": [
    {
     "name": "stdout",
     "output_type": "stream",
     "text": [
      "(1, 2, 3, 4, 5, 6)\n",
      "[1, 2, 3, 4, 5, 6]\n",
      "Hello World\n"
     ]
    }
   ],
   "source": [
    "print((1, 2, 3) + (4, 5, 6))\n",
    "\n",
    "print([1, 2, 3] + [4, 5, 6])\n",
    "\n",
    "print('Hello' + ' ' + 'World')"
   ]
  }
 ],
 "metadata": {
  "kernelspec": {
   "display_name": "IP2023",
   "language": "python",
   "name": "python3"
  },
  "language_info": {
   "codemirror_mode": {
    "name": "ipython",
    "version": 3
   },
   "file_extension": ".py",
   "mimetype": "text/x-python",
   "name": "python",
   "nbconvert_exporter": "python",
   "pygments_lexer": "ipython3",
   "version": "3.8.17"
  },
  "orig_nbformat": 4
 },
 "nbformat": 4,
 "nbformat_minor": 2
}
