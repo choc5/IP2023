{
 "cells": [
  {
   "cell_type": "code",
   "execution_count": 11,
   "metadata": {},
   "outputs": [
    {
     "name": "stdout",
     "output_type": "stream",
     "text": [
      "bozo\n",
      "1234\n"
     ]
    }
   ],
   "source": [
    "d={'user':'bozo','pswd':1234}\n",
    "\n",
    "print(d['user'])\n",
    "\n",
    "print(d['pswd'])"
   ]
  },
  {
   "cell_type": "code",
   "execution_count": 10,
   "metadata": {},
   "outputs": [
    {
     "name": "stdout",
     "output_type": "stream",
     "text": [
      "{'user': 'clown'}\n",
      "{'user': 'clown', 'id': 45}\n"
     ]
    }
   ],
   "source": [
    "d['user'] = 'clown'\n",
    "print(d)\n",
    "\n",
    "d['id']=45\n",
    "print(d)"
   ]
  },
  {
   "cell_type": "code",
   "execution_count": 8,
   "metadata": {},
   "outputs": [
    {
     "name": "stdout",
     "output_type": "stream",
     "text": [
      "{'pswd': 1234, 'i': 34}\n"
     ]
    }
   ],
   "source": [
    "d={'user':'bozo','pswd':1234,'i':34}\n",
    "\n",
    "del d['user']\n",
    "\n",
    "print(d)"
   ]
  },
  {
   "cell_type": "code",
   "execution_count": 9,
   "metadata": {},
   "outputs": [
    {
     "data": {
      "text/plain": [
       "{}"
      ]
     },
     "execution_count": 9,
     "metadata": {},
     "output_type": "execute_result"
    }
   ],
   "source": [
    "d={'user':'bozo','pswd':1234,'i':34}\n",
    "\n",
    "d.clear()\n",
    "\n",
    "d"
   ]
  },
  {
   "cell_type": "code",
   "execution_count": 7,
   "metadata": {},
   "outputs": [
    {
     "data": {
      "text/plain": [
       "[1]"
      ]
     },
     "execution_count": 7,
     "metadata": {},
     "output_type": "execute_result"
    }
   ],
   "source": [
    "d={'user':'bozo','pswd':1234,'i':34}\n",
    "\n",
    "a=[1,2]\n",
    "\n",
    "del a[1]\n",
    "\n",
    "a"
   ]
  },
  {
   "cell_type": "code",
   "execution_count": 5,
   "metadata": {},
   "outputs": [
    {
     "name": "stdout",
     "output_type": "stream",
     "text": [
      "dict_keys(['user', 'pswd', 'i'])\n",
      "dict_values(['bozo', 1234, 34])\n",
      "dict_items([('user', 'bozo'), ('pswd', 1234), ('i', 34)])\n"
     ]
    }
   ],
   "source": [
    "d={'user':'bozo','pswd':1234,'i':34}\n",
    "\n",
    "print(d.keys())\n",
    "\n",
    "print(d.values())\n",
    "\n",
    "print(d.items())"
   ]
  }
 ],
 "metadata": {
  "kernelspec": {
   "display_name": "IP2023",
   "language": "python",
   "name": "python3"
  },
  "language_info": {
   "codemirror_mode": {
    "name": "ipython",
    "version": 3
   },
   "file_extension": ".py",
   "mimetype": "text/x-python",
   "name": "python",
   "nbconvert_exporter": "python",
   "pygments_lexer": "ipython3",
   "version": "3.8.17"
  },
  "orig_nbformat": 4
 },
 "nbformat": 4,
 "nbformat_minor": 2
}
