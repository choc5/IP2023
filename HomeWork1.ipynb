{
 "cells": [
  {
   "cell_type": "code",
   "execution_count": 423,
   "metadata": {},
   "outputs": [],
   "source": [
    "import numpy as np\n",
    "import cv2"
   ]
  },
  {
   "cell_type": "code",
   "execution_count": 424,
   "metadata": {},
   "outputs": [],
   "source": [
    "drawing = False # true if mouse is pressed\n",
    "mode = True # if True, draw rectangle. Press 'm' to toggle to curve\n",
    "font = cv2.FONT_HERSHEY_SIMPLEX\n",
    "ix,iy = -1,-1\n",
    "x, y = 0, 0\n",
    "\n",
    "m_pos=[0,0,0,0]\n",
    "\n",
    "def change(val):\n",
    "    global m_pos\n",
    "    gray_image = cv2.cvtColor(img, cv2.COLOR_BGR2GRAY)\n",
    "    #img[m_pos[0]:m_pos[1],m_pos[2]:m_pos[3]]=val/100*gray_image\n",
    "    gray_image = gray_image[:, :, np.newaxis]\n",
    "    img[0:m_pos[0],:,:]=(1-val/100000000)*gray_image[0:m_pos[0],:,:]\n",
    "    img[m_pos[1]:,:]=(1-val/100000000)*gray_image[m_pos[1]:,:]\n",
    "    img[:,:m_pos[2]]=(1-val/100000000)*gray_image[:,:m_pos[2]]\n",
    "    img[:,m_pos[3]:]=(1-val/100000000)*gray_image[:,m_pos[3]:]\n",
    "\n",
    "    cv2.imshow('image',img)\n",
    "\n",
    "# mouse callback function\n",
    "def draw_square(event,x,y,flags,param):\n",
    "    global ix,iy,drawing,mode,m_pos,img\n",
    "    if event == cv2.EVENT_LBUTTONDOWN:\n",
    "        img = cv2.imread(\"messi5.jpg\",1)\n",
    "        ix,iy = x,y\n",
    "        #img[:50,:500,]=0\n",
    "        cv2.putText(img,'Mouse : ('+ str(ix) +', '+ str(iy)+')',(10,30), font, 0.7,(255,255,255),2,cv2.LINE_AA)\n",
    "        drawing = True\n",
    "    elif event == cv2.EVENT_LBUTTONUP:\n",
    "        cv2.putText(img,' - ('+ str(x) +', '+ str(y)+')',(230,30), font, 0.7,(255,255,255),2,cv2.LINE_AA)\n",
    "        drawing = False\n",
    "        if mode == True:\n",
    "            img[iy:y,ix:x,:2]=0\n",
    "            m_pos[:]=[iy,y,ix,x]\n",
    "        else:\n",
    "            img[iy:y,ix:x,:2]=0\n",
    "            m_pos[:]=[iy,y,ix,x]\n",
    "\n",
    "    cv2.imshow('image',img)\n",
    "    "
   ]
  },
  {
   "cell_type": "code",
   "execution_count": 425,
   "metadata": {},
   "outputs": [],
   "source": [
    "img = cv2.imread(\"messi5.jpg\",1)\n",
    "\n",
    "cv2.namedWindow('image')\n",
    "\n",
    "cv2.createTrackbar('Bright','image',0,100,change)\n",
    "\n",
    "cv2.imshow('image',img)\n",
    "\n",
    "cv2.setMouseCallback('image',draw_square)\n",
    "\n",
    "while(1):\n",
    "    k = cv2.waitKey(1) & 0xFF\n",
    "    if k == ord('m'):\n",
    "        mode = not mode\n",
    "    elif k == 27:\n",
    "        break\n",
    "\n",
    "cv2.destroyAllWindows()"
   ]
  }
 ],
 "metadata": {
  "kernelspec": {
   "display_name": "CHOC5",
   "language": "python",
   "name": "python3"
  },
  "language_info": {
   "codemirror_mode": {
    "name": "ipython",
    "version": 3
   },
   "file_extension": ".py",
   "mimetype": "text/x-python",
   "name": "python",
   "nbconvert_exporter": "python",
   "pygments_lexer": "ipython3",
   "version": "3.8.18"
  },
  "orig_nbformat": 4
 },
 "nbformat": 4,
 "nbformat_minor": 2
}
